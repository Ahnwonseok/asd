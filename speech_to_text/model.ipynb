{
 "cells": [
  {
   "cell_type": "code",
   "execution_count": 26,
   "metadata": {},
   "outputs": [],
   "source": [
    "import sys\n",
    "import requests"
   ]
  },
  {
   "cell_type": "code",
   "execution_count": 27,
   "metadata": {},
   "outputs": [],
   "source": [
    "def transcribe_file(speech_file):\n",
    "    client_id = \"3zumti8ipx\" #기업 client id 입력\n",
    "    client_secret = \"038E9k1ATj0P4BhKsqLKmseM1XJpu5JXtZdADE39\" #기업 client key 입력\n",
    "    lang = \"Kor\" # 언어 코드 ( Kor, Jpn, Eng, Chn ) \n",
    "    url = \"https://naveropenapi.apigw.ntruss.com/recog/v1/stt?lang=\" + lang \n",
    "    data = open(speech_file, 'rb') #speech file 입력\n",
    "    headers = { \"X-NCP-APIGW-API-KEY-ID\": client_id, \"X-NCP-APIGW-API-KEY\": client_secret, \"Content-Type\": \"application/octet-stream\" } \n",
    "    response = requests.post(url, data=data, headers=headers) \n",
    "    rescode = response.status_code \n",
    "    if(rescode == 200): \n",
    "        print (response.text) \n",
    "    else: \n",
    "        print(\"Error : \" + response.text)"
   ]
  },
  {
   "cell_type": "code",
   "execution_count": 28,
   "metadata": {},
   "outputs": [],
   "source": [
    "#예시 \n",
    "path = '/Users/paulpark/Downloads/'\n",
    "\n",
    "mp3_1 = path + 'Test1.mp3'\n",
    "mp3_2 = path + 'Test2.mp3'\n",
    "mp3_3 = path + 'Test3.mp3'\n",
    "wav_1 = path + 'Test4.wav'\n",
    "wav_2 = path + 'Test5.wav'"
   ]
  },
  {
   "cell_type": "code",
   "execution_count": 29,
   "metadata": {},
   "outputs": [
    {
     "name": "stdout",
     "output_type": "stream",
     "text": [
      "{\"text\":\"안녕하세요 제 이름은 박 찬성입니다\"}\n"
     ]
    }
   ],
   "source": [
    "transcribe_file(mp3_1)"
   ]
  },
  {
   "cell_type": "code",
   "execution_count": 30,
   "metadata": {},
   "outputs": [
    {
     "name": "stdout",
     "output_type": "stream",
     "text": [
      "{\"text\":\"점심시간에 강아지 산책 요리 독서 게임을 좋아합니다\"}\n"
     ]
    }
   ],
   "source": [
    "transcribe_file(mp3_2)"
   ]
  },
  {
   "cell_type": "code",
   "execution_count": 31,
   "metadata": {},
   "outputs": [
    {
     "name": "stdout",
     "output_type": "stream",
     "text": [
      "{\"text\":\"여의도역까지 몇시쯤 도착할 예정이신가요\"}\n"
     ]
    }
   ],
   "source": [
    "transcribe_file(mp3_3)"
   ]
  },
  {
   "cell_type": "code",
   "execution_count": 32,
   "metadata": {},
   "outputs": [
    {
     "name": "stdout",
     "output_type": "stream",
     "text": [
      "{\"text\":\"고기 신은 어떤 취미를 좋아하세요\"}\n"
     ]
    }
   ],
   "source": [
    "transcribe_file(wav_1)"
   ]
  },
  {
   "cell_type": "code",
   "execution_count": 33,
   "metadata": {},
   "outputs": [
    {
     "name": "stdout",
     "output_type": "stream",
     "text": [
      "{\"text\":\"호빗 2는 나이가 어떻게 되시나요\"}\n"
     ]
    }
   ],
   "source": [
    "transcribe_file(wav_2)"
   ]
  }
 ],
 "metadata": {
  "interpreter": {
   "hash": "baf79a2d4c18fc6734b7d21a40639f37a7587b38f11a082e387c99d92b9661d5"
  },
  "kernelspec": {
   "display_name": "Python 3.8.12 64-bit",
   "language": "python",
   "name": "python3"
  },
  "language_info": {
   "codemirror_mode": {
    "name": "ipython",
    "version": 3
   },
   "file_extension": ".py",
   "mimetype": "text/x-python",
   "name": "python",
   "nbconvert_exporter": "python",
   "pygments_lexer": "ipython3",
   "version": "3.8.12"
  },
  "orig_nbformat": 4
 },
 "nbformat": 4,
 "nbformat_minor": 2
}
